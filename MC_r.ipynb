{
 "cells": [
  {
   "cell_type": "code",
   "execution_count": 2,
   "id": "cc0a7d38",
   "metadata": {},
   "outputs": [],
   "source": [
    "#install.packages(\"plotrix\")                   # Install plotrix R package\n",
    "library(\"plotrix\")"
   ]
  },
  {
   "cell_type": "markdown",
   "id": "e4025a22",
   "metadata": {},
   "source": [
    "# Example 1: The mean of simulated data"
   ]
  },
  {
   "cell_type": "code",
   "execution_count": 55,
   "id": "892af628",
   "metadata": {},
   "outputs": [
    {
     "name": "stdout",
     "output_type": "stream",
     "text": [
      "[1] \"mean: 0.919511045298241\"\n",
      "[1] \"Std.Dev: 0.0553557785062759\"\n"
     ]
    }
   ],
   "source": [
    "set.seed(12345)\n",
    "n <- 500\n",
    "Value<-rchisq(n,1)\n",
    "Mean <- mean(Value)\n",
    "std.error <- std.error(Value)\n",
    "print(paste0(\"mean: \" , Mean))\n",
    "print(paste0(\"Std.Dev: \" , std.error))"
   ]
  },
  {
   "cell_type": "markdown",
   "id": "de1e12fe",
   "metadata": {},
   "source": [
    "# Example 2: Estimated means of three draws"
   ]
  },
  {
   "cell_type": "code",
   "execution_count": 73,
   "id": "d6e2578b",
   "metadata": {},
   "outputs": [
    {
     "data": {
      "text/html": [
       "<style>\n",
       ".list-inline {list-style: none; margin:0; padding: 0}\n",
       ".list-inline>li {display: inline-block}\n",
       ".list-inline>li:not(:last-child)::after {content: \"\\00b7\"; padding: 0 .5ex}\n",
       "</style>\n",
       "<ol class=list-inline><li>0.919511045298241</li><li>0.973489485932092</li><li>1.01001691029175</li></ol>\n"
      ],
      "text/latex": [
       "\\begin{enumerate*}\n",
       "\\item 0.919511045298241\n",
       "\\item 0.973489485932092\n",
       "\\item 1.01001691029175\n",
       "\\end{enumerate*}\n"
      ],
      "text/markdown": [
       "1. 0.919511045298241\n",
       "2. 0.973489485932092\n",
       "3. 1.01001691029175\n",
       "\n",
       "\n"
      ],
      "text/plain": [
       "[1] 0.9195110 0.9734895 1.0100169"
      ]
     },
     "metadata": {},
     "output_type": "display_data"
    }
   ],
   "source": [
    "set.seed(12345)\n",
    "Means <- vector()\n",
    "\n",
    "for (i in 1:3){\n",
    "  \n",
    "  n <- 500\n",
    "  y<-rchisq(n,1)\n",
    "  Means[i]<- mean(y)\n",
    "}\n",
    "\n",
    "Means"
   ]
  },
  {
   "cell_type": "markdown",
   "id": "1cc2a327",
   "metadata": {},
   "source": [
    "# Example 3: The mean of 2000 estimated means"
   ]
  },
  {
   "cell_type": "code",
   "execution_count": 97,
   "id": "48051858",
   "metadata": {},
   "outputs": [
    {
     "data": {
      "text/plain": [
       "   Min. 1st Qu.  Median    Mean 3rd Qu.    Max. \n",
       " 0.7667  0.9562  0.9979  1.0007  1.0430  1.2196 "
      ]
     },
     "metadata": {},
     "output_type": "display_data"
    },
    {
     "name": "stdout",
     "output_type": "stream",
     "text": [
      "[1] \"Std.Dev: 0.0648028226047943\"\n"
     ]
    }
   ],
   "source": [
    "set.seed(123)\n",
    "Means <- vector()\n",
    "\n",
    "for (i in 1:2000){\n",
    "  \n",
    "  n <- 500\n",
    "  y<-rchisq(n,1)\n",
    "  Means[i]<- mean(y)\n",
    "}\n",
    "\n",
    "summary(Means)\n",
    "print(paste0(\"Std.Dev: \" ,sd(Means)))"
   ]
  },
  {
   "cell_type": "markdown",
   "id": "a85ca1bc",
   "metadata": {},
   "source": [
    "# Example 4: The mean of 2000 standard errors"
   ]
  },
  {
   "cell_type": "code",
   "execution_count": 106,
   "id": "2cbf5df3",
   "metadata": {},
   "outputs": [
    {
     "data": {
      "text/plain": [
       "   Min. 1st Qu.  Median    Mean 3rd Qu.    Max. \n",
       " 0.7667  0.9562  0.9979  1.0007  1.0430  1.2196 "
      ]
     },
     "metadata": {},
     "output_type": "display_data"
    },
    {
     "name": "stdout",
     "output_type": "stream",
     "text": [
      "[1] \"The standard deviation of the estimates: 0.0648028226047943\"\n",
      "[1] \"The mean of the estimated standard errors 0.0621763733521055\"\n"
     ]
    }
   ],
   "source": [
    "set.seed(123)\n",
    "Sd_vector <- vector()\n",
    "\n",
    "\n",
    "for (i in 1:2000){\n",
    "  \n",
    "  n <- 500\n",
    "  y<-rchisq(n,1)\n",
    "  Means[i]<- mean(y)\n",
    "  Sd_vector[i] <- sd(Means)\n",
    "}\n",
    "\n",
    "summary(Means)\n",
    "print(paste0(\"The standard deviation of the estimates: \" ,sd(Means)))\n",
    "\n",
    "\n",
    "# Sd_vector\n",
    "\n",
    "print(paste0(\"The mean of the estimated standard errors \" ,mean(Sd_vector)))"
   ]
  },
  {
   "cell_type": "markdown",
   "id": "4b9d298f",
   "metadata": {},
   "source": [
    "# Example 5: Estimating the rejection rate"
   ]
  },
  {
   "cell_type": "code",
   "execution_count": 116,
   "id": "41aceb4b",
   "metadata": {},
   "outputs": [
    {
     "name": "stdout",
     "output_type": "stream",
     "text": [
      "[1] \"The mean of p-values 0.107502604697089\"\n"
     ]
    }
   ],
   "source": [
    "set.seed(12345)\n",
    "test <- vector()\n",
    "pvalue <- vector()\n",
    "\n",
    "for (i in 1:2000){\n",
    "  \n",
    "  n <- 500\n",
    "  Value<-rchisq(n,1)\n",
    "  Means[i]<- mean(Value)\n",
    "  test <- t.test(Means, alternative = \"two.sided\", mu=1, conf.int=0.95)\n",
    "  pvalue[i] <- test$p.value\n",
    "  Sd_vector[i] <- sd(Means)\n",
    "}\n",
    "\n",
    "# pvalue\n",
    "\n",
    "print(paste0(\"The mean of p-values \" ,mean(pvalue)))"
   ]
  }
 ],
 "metadata": {
  "kernelspec": {
   "display_name": "R",
   "language": "R",
   "name": "ir"
  },
  "language_info": {
   "codemirror_mode": "r",
   "file_extension": ".r",
   "mimetype": "text/x-r-source",
   "name": "R",
   "pygments_lexer": "r",
   "version": "4.1.1"
  }
 },
 "nbformat": 4,
 "nbformat_minor": 5
}
